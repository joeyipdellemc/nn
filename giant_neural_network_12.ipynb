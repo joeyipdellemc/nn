{
 "cells": [
  {
   "cell_type": "markdown",
   "metadata": {},
   "source": [
    "Beginner Intro to Neural Networks 12: Neural Network in Python from Scratch \n",
    "https://youtu.be/LSr96IZQknc"
   ]
  },
  {
   "cell_type": "code",
   "execution_count": 60,
   "metadata": {},
   "outputs": [],
   "source": [
    "%matplotlib inline"
   ]
  },
  {
   "cell_type": "code",
   "execution_count": 61,
   "metadata": {},
   "outputs": [],
   "source": [
    "from matplotlib import pyplot as plt\n",
    "import numpy as np"
   ]
  },
  {
   "cell_type": "code",
   "execution_count": 62,
   "metadata": {},
   "outputs": [],
   "source": [
    "#each point is length , width, type\n",
    "data = [[3,  1.5,  1],\n",
    "        [2,   1,    0],\n",
    "        [4,   1.5,  1],\n",
    "        [3,   1,    0],\n",
    "        [3.5, .5,   1],\n",
    "        [2,   .5,   0],\n",
    "        [5.5,  1,    1],\n",
    "        [1,   1,    0]]\n",
    "mystery_flower = [4.5, 1]"
   ]
  },
  {
   "cell_type": "code",
   "execution_count": 63,
   "metadata": {},
   "outputs": [
    {
     "data": {
      "image/png": "[encoded data removed]",
      "text/plain": [
       "<Figure size 432x288 with 1 Axes>"
      ]
     },
     "metadata": {
      "needs_background": "light"
     },
     "output_type": "display_data"
    }
   ],
   "source": [
    "# scatter plot them\n",
    "def vis_data():\n",
    "    plt.grid()\n",
    "\n",
    "    for i in range(len(data)):\n",
    "        c = 'r'\n",
    "        if data[i][2] == 0:\n",
    "            c = 'b'\n",
    "        plt.scatter([data[i][0]], [data[i][1]], c=c)\n",
    "\n",
    "    plt.scatter([mystery_flower[0]], [mystery_flower[1]], c='gray')\n",
    "\n",
    "vis_data()"
   ]
  },
  {
   "cell_type": "code",
   "execution_count": 64,
   "metadata": {},
   "outputs": [],
   "source": [
    "#network\n",
    "#   o    flower type\n",
    "#  / \\  w1,w2,b\n",
    "# o   o  length, width"
   ]
  },
  {
   "cell_type": "code",
   "execution_count": 65,
   "metadata": {},
   "outputs": [],
   "source": [
    "def sigmoid(x):\n",
    "    return 1/(1+np.exp(-x))\n",
    "\n",
    "# derivative sigmoid http://www.ai.mit.edu/courses/6.892/lecture8-html/sld015.htm\n",
    "# https://www.youtube.com/watch?v=R7xu8Hhgu9U\n",
    "def sigmoid_P(x):\n",
    "    return sigmoid(x) * (1-sigmoid(x))"
   ]
  },
  {
   "cell_type": "code",
   "execution_count": 66,
   "metadata": {},
   "outputs": [
    {
     "data": {
      "text/plain": [
       "[<matplotlib.lines.Line2D at 0x1d29a2ce080>]"
      ]
     },
     "execution_count": 66,
     "metadata": {},
     "output_type": "execute_result"
    },
    {
     "data": {
      "image/png": "[encoded data removed]",
      "text/plain": [
       "<Figure size 432x288 with 1 Axes>"
      ]
     },
     "metadata": {
      "needs_background": "light"
     },
     "output_type": "display_data"
    }
   ],
   "source": [
    "T = np.linspace(-6, 6, 100)\n",
    "plt.plot(T, sigmoid(T), c='r')\n",
    "plt.plot(T, sigmoid_P(T), c='b')"
   ]
  },
  {
   "cell_type": "code",
   "execution_count": 67,
   "metadata": {},
   "outputs": [],
   "source": [
    "#Training Loop\n",
    "\n",
    "def train():\n",
    "    #pre train\n",
    "    w1=np.random.randn()\n",
    "    w2=np.random.randn()\n",
    "    b=np.random.randn()\n",
    "    iterations = 10000\n",
    "    learning_rate = 0.1\n",
    "    costs=[] # keep costs during training, see if they go down\n",
    "    for i in range(50000):\n",
    "        ri = np.random.randint(len(data))# get a random point\n",
    "        point = data[ri]\n",
    "        \n",
    "        z = point[0] * w1 + point[1] * w2 + b\n",
    "        pred = sigmoid(z) # networks prediction\n",
    "    \n",
    "        target = point[2]\n",
    "        \n",
    "        # cost for current random point\n",
    "        cost = np.square(pred - target)\n",
    "        \n",
    "        # print the cost over all data points every 1k iters\n",
    "        if i%100 == 0:\n",
    "            c = 0\n",
    "            for j in range(len(data)):\n",
    "                p = data[j]\n",
    "                p_pred = sigmoid(w1 * p[0] + w2 * p[1] + b)\n",
    "                c += np.square(p_pred - p[2])\n",
    "            costs.append(c)\n",
    "           \n",
    "    \n",
    "        dcost_pred = 2 *(pred-target)\n",
    "        dpred_dz = sigmoid_P(z)\n",
    "\n",
    "        dz_dw1 = point[0]\n",
    "        dz_dw2 = point[1]\n",
    "        dz_db = 1\n",
    "\n",
    "        dcost_cost = dcost_pred * dpred_dz\n",
    "\n",
    "        dcost_dw1 = dcost_cost * dz_dw1\n",
    "        dcost_dw2 = dcost_cost * dz_dw2\n",
    "        dcost_db = dcost_cost * dz_db\n",
    "\n",
    "        w1 = w1 - dcost_dw1 * learning_rate\n",
    "        w2 = w2 - dcost_dw2 * learning_rate\n",
    "        b = b - dcost_db * learning_rate\n",
    "    \n",
    "    return costs,w1,w2,b\n"
   ]
  },
  {
   "cell_type": "code",
   "execution_count": 68,
   "metadata": {},
   "outputs": [],
   "source": [
    "costs,w1,w2,b = train()"
   ]
  },
  {
   "cell_type": "code",
   "execution_count": 69,
   "metadata": {},
   "outputs": [
    {
     "data": {
      "image/png": "[encoded data removed]",
      "text/plain": [
       "<Figure size 432x288 with 1 Axes>"
      ]
     },
     "metadata": {
      "needs_background": "light"
     },
     "output_type": "display_data"
    }
   ],
   "source": [
    "fig = plt.plot(costs)"
   ]
  },
  {
   "cell_type": "code",
   "execution_count": 70,
   "metadata": {},
   "outputs": [
    {
     "name": "stdout",
     "output_type": "stream",
     "text": [
      "0.9992724599571524\n",
      "close to 0 -> blue, close to 1 -> red\n"
     ]
    }
   ],
   "source": [
    "#predict what the myster flower is!\n",
    "\n",
    "z = w1 * mystery_flower[0] + w2 * mystery_flower[1] + b\n",
    "pred = sigmoid(z)\n",
    "\n",
    "print(pred)\n",
    "print(\"close to 0 -> blue, close to 1 -> red\")"
   ]
  },
  {
   "cell_type": "code",
   "execution_count": 71,
   "metadata": {},
   "outputs": [
    {
     "data": {
      "image/png": "[encoded data removed]",
      "text/plain": [
       "<Figure size 432x288 with 1 Axes>"
      ]
     },
     "metadata": {
      "needs_background": "light"
     },
     "output_type": "display_data"
    }
   ],
   "source": [
    "# check out the networks predictions in the x,y plane\n",
    "for x in np.linspace(0, 6, 20):\n",
    "    for y in np.linspace(0, 3, 20):\n",
    "        pred = sigmoid(w1 * x + w2 * y + b)\n",
    "        c = 'b'\n",
    "        if pred > .5:\n",
    "            c = 'r'\n",
    "        plt.scatter([x],[y],c=c, alpha=.2)\n",
    "        \n",
    "# plot points over network predictions\n",
    "# you should see a split, with half the predictions blue\n",
    "# and the other half red.. nicely predicting each data point!\n",
    "vis_data()"
   ]
  },
  {
   "cell_type": "code",
   "execution_count": null,
   "metadata": {},
   "outputs": [],
   "source": []
  }
 ],
 "metadata": {
  "kernelspec": {
   "display_name": "Python 3",
   "language": "python",
   "name": "python3"
  },
  "language_info": {
   "codemirror_mode": {
    "name": "ipython",
    "version": 3
   },
   "file_extension": ".py",
   "mimetype": "text/x-python",
   "name": "python",
   "nbconvert_exporter": "python",
   "pygments_lexer": "ipython3",
   "version": "3.6.8rc1"
  }
 },
 "nbformat": 4,
 "nbformat_minor": 2
}
