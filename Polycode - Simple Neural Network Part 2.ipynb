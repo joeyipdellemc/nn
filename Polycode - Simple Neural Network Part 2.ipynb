{
  "nbformat": 4,
  "nbformat_minor": 0,
  "metadata": {
    "colab": {
      "name": "Polycode - Simple Neural Network.ipynb",
      "version": "0.3.2",
      "provenance": []
    },
    "kernelspec": {
      "display_name": "Python 3",
      "language": "python",
      "name": "python3"
    }
  },
  "cells": [
    {
      "metadata": {
        "id": "k_wWCxSSVlUX",
        "colab_type": "text"
      },
      "cell_type": "markdown",
      "source": [
        "Create a Simple Neural Network in Python from Scratch\n",
        "\n",
        "https://www.youtube.com/watch?v=kft1AJ9WVDk&t=699s\n",
        "\n",
        "https://www.youtube.com/watch?v=Py4xvZx-A1E\n",
        "\n",
        "https://medium.com/technology-invention-and-more/how-to-build-a-simple-neural-network-in-9-lines-of-python-code-cc8f23647ca1\n",
        "\n",
        "https://github.com/jonasbostoen/simple-neural-network/blob/master/README.md\n"
      ]
    },
    {
      "metadata": {
        "id": "II8vWLo7Vp7H",
        "colab_type": "code",
        "colab": {}
      },
      "cell_type": "code",
      "source": [
        "import numpy as np\n",
        "%matplotlib inline\n",
        "import matplotlib.pyplot as plt"
      ],
      "execution_count": 0,
      "outputs": []
    },
    {
      "metadata": {
        "id": "wRnXlqjkkFF5",
        "colab_type": "code",
        "colab": {}
      },
      "cell_type": "code",
      "source": [
        "class NeuralNetwork():\n",
        "  def __init__(self):\n",
        "    np.random.seed(1)\n",
        "    \n",
        "    self.synaptic_weights = 2 * np.random.random((3,1)) -1\n",
        "  def sigmoid(self, x):\n",
        "    return 1/(1+np.exp(-x))\n",
        "  \n",
        "  def sigmoid_derivative(self,x):\n",
        "    return x *(1-x)\n",
        "  \n",
        "  def train(self, training_inputs, training_outputs, training_iterations):\n",
        "    for iteration in range(training_iterations):\n",
        "      output = self.think(training_inputs)\n",
        "      error - training_outputs - output\n",
        "      adjustments - np.dot(training_inputs.T, error*self.sigmoid_derivative(output))\n",
        "      self.synaptic_weight += adjustments. "
      ],
      "execution_count": 0,
      "outputs": []
    },
    {
      "metadata": {
        "id": "9dyB9B72Vr4R",
        "colab_type": "code",
        "colab": {}
      },
      "cell_type": "code",
      "source": [
        ""
      ],
      "execution_count": 0,
      "outputs": []
    },
    {
      "metadata": {
        "id": "z3-vDWWJo5Rn",
        "colab_type": "code",
        "colab": {}
      },
      "cell_type": "code",
      "source": [
        ""
      ],
      "execution_count": 0,
      "outputs": []
    },
    {
      "metadata": {
        "id": "0UAuJ7ARWNvV",
        "colab_type": "code",
        "colab": {}
      },
      "cell_type": "code",
      "source": [
        "training_inputs = np.array([[0,0,1],\n",
        "                            [1,1,1],\n",
        "                            [1,0,1],\n",
        "                            [0,1,1]])"
      ],
      "execution_count": 0,
      "outputs": []
    },
    {
      "metadata": {
        "id": "dQqHwm2FWgOw",
        "colab_type": "code",
        "colab": {}
      },
      "cell_type": "code",
      "source": [
        "training_outputs = np.array([[0,1,1,0]]).T #or training_outputs = np.array([[0],[1],[1],[0]]) "
      ],
      "execution_count": 0,
      "outputs": []
    },
    {
      "metadata": {
        "id": "es4ucT0PZD0i",
        "colab_type": "code",
        "colab": {}
      },
      "cell_type": "code",
      "source": [
        "np.random.seed(1)"
      ],
      "execution_count": 0,
      "outputs": []
    },
    {
      "metadata": {
        "id": "aa59lZ8mm9xX",
        "colab_type": "code",
        "colab": {}
      },
      "cell_type": "code",
      "source": [
        "synaptic_weights = 2 * np.random.random((3,1)) -1"
      ],
      "execution_count": 0,
      "outputs": []
    },
    {
      "metadata": {
        "id": "XKX9ZnU3nJD0",
        "colab_type": "code",
        "outputId": "b782cd7d-2ee0-4b1f-a1ca-9d52ec0c0179",
        "colab": {
          "base_uri": "https://localhost:8080/",
          "height": 34
        }
      },
      "cell_type": "code",
      "source": [
        "print('Random Starting synaptic weights:')"
      ],
      "execution_count": 0,
      "outputs": [
        {
          "output_type": "stream",
          "text": [
            "Random Starting synaptic weights:\n"
          ],
          "name": "stdout"
        }
      ]
    },
    {
      "metadata": {
        "id": "bOtrmfOLnQps",
        "colab_type": "code",
        "outputId": "b6ad51fc-6825-492f-f2ae-1eb1fcf3be6a",
        "colab": {
          "base_uri": "https://localhost:8080/",
          "height": 68
        }
      },
      "cell_type": "code",
      "source": [
        "print (synaptic_weights)"
      ],
      "execution_count": 0,
      "outputs": [
        {
          "output_type": "stream",
          "text": [
            "[[-0.16595599]\n",
            " [ 0.44064899]\n",
            " [-0.99977125]]\n"
          ],
          "name": "stdout"
        }
      ]
    },
    {
      "metadata": {
        "id": "PuoXX5ownVIN",
        "colab_type": "code",
        "outputId": "21cdf6c0-6c81-44af-fcb2-d67d6065c9ea",
        "colab": {
          "base_uri": "https://localhost:8080/",
          "height": 350
        }
      },
      "cell_type": "code",
      "source": [
        "for iteration in range(100):\n",
        "  input_layer = training_inputs\n",
        "  outputs = sigmoid(np.dot(input_layer, synaptic_weights))\n",
        "  \n",
        "  error = training_outputs - outputs\n",
        "  \n",
        "  adjustments = error * sigmoid_derivative(outputs)\n",
        "  \n",
        "  synaptic_weights += np.dot(input_layer.T, adjustments)\n",
        "  \n",
        "  #print ('Synaptic Weights after training:')\n",
        "  #print (synaptic_weights)\n",
        "  \n",
        "  plt.scatter(iteration,outputs[1],c='b')\n",
        "  plt.scatter(iteration,training_outputs[1], c= 'r')\n",
        "\n",
        "print ('Outputs after training:')\n",
        "print (outputs)"
      ],
      "execution_count": 0,
      "outputs": [
        {
          "output_type": "stream",
          "text": [
            "Outputs after training:\n",
            "[[0.10476509]\n",
            " [0.91496197]\n",
            " [0.9296995 ]\n",
            " [0.08693359]]\n"
          ],
          "name": "stdout"
        },
        {
          "output_type": "display_data",
          "data": {
            "image/png": "[encoded data removed]",
            "text/plain": [
              "<Figure size 432x288 with 1 Axes>"
            ]
          },
          "metadata": {
            "tags": []
          }
        }
      ]
    },
    {
      "metadata": {
        "id": "6vGGEXI1n_Qu",
        "colab_type": "code",
        "colab": {}
      },
      "cell_type": "code",
      "source": [
        ""
      ],
      "execution_count": 0,
      "outputs": []
    }
  ]
}