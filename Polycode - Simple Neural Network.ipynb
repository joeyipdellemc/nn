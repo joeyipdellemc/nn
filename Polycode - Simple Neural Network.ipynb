{
  "nbformat": 4,
  "nbformat_minor": 0,
  "metadata": {
    "colab": {
      "name": "Polycode - Simple Neural Network.ipynb",
      "version": "0.3.2",
      "provenance": []
    },
    "kernelspec": {
      "display_name": "Python 3",
      "language": "python",
      "name": "python3"
    }
  },
  "cells": [
    {
      "metadata": {
        "id": "0Rlr72EdVXVv",
        "colab_type": "text"
      },
      "cell_type": "markdown",
      "source": [
        "Create a Simple Neural Network in Python from Scratch\n",
        "https://www.youtube.com/watch?v=kft1AJ9WVDk&t=699s\n",
        "https://medium.com/technology-invention-and-more/how-to-build-a-simple-neural-network-in-9-lines-of-python-code-cc8f23647ca1\n",
        "https://github.com/jonasbostoen/simple-neural-network/blob/master/README.md\n"
      ]
    },
    {
      "metadata": {
        "id": "kGEShvb7VYMR",
        "colab_type": "code",
        "colab": {}
      },
      "cell_type": "code",
      "source": [
        "import numpy as np"
      ],
      "execution_count": 0,
      "outputs": []
    },
    {
      "metadata": {
        "id": "MoFMdtBNVfWs",
        "colab_type": "code",
        "colab": {}
      },
      "cell_type": "code",
      "source": [
        ""
      ],
      "execution_count": 0,
      "outputs": []
    }
  ]
}